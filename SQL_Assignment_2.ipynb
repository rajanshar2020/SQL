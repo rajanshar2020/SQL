{
 "cells": [
  {
   "cell_type": "raw",
   "id": "dd34f649",
   "metadata": {},
   "source": [
    "#Q1:Write an SQL query to print the first three characters of  FIRST_NAME from Worker\n",
    "table.\n",
    "Ans: \n",
    "select left(FIRST_NAME,3) as First_Name from Worker"
   ]
  },
  {
   "cell_type": "raw",
   "id": "2f307513",
   "metadata": {},
   "source": [
    "#Q2:Write an SQL query to find the position of the alphabet (‘a’) in the first name\n",
    "column ‘Amitabh’ from Worker table.\n",
    "Ans:\n",
    "Select locate('a',FIRST_NAME) from Worker where FIRST_NAME='Amitabh'"
   ]
  },
  {
   "cell_type": "raw",
   "id": "efa1bb10",
   "metadata": {},
   "source": [
    "#Q3:Write an SQL query to print the name of employees having the highest salary in each\n",
    "department.\n",
    "Ans:\n",
    "select Emp_Name from Table_Name where Emp_ID in (Select EMP_ID from Table_Name where EMP_Salary having max(EMP_Salary))"
   ]
  }
 ],
 "metadata": {
  "kernelspec": {
   "display_name": "Python 3",
   "language": "python",
   "name": "python3"
  },
  "language_info": {
   "codemirror_mode": {
    "name": "ipython",
    "version": 3
   },
   "file_extension": ".py",
   "mimetype": "text/x-python",
   "name": "python",
   "nbconvert_exporter": "python",
   "pygments_lexer": "ipython3",
   "version": "3.8.8"
  }
 },
 "nbformat": 4,
 "nbformat_minor": 5
}
