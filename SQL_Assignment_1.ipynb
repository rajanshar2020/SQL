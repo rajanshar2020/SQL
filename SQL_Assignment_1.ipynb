{
 "cells": [
  {
   "cell_type": "raw",
   "id": "c4701d8f",
   "metadata": {},
   "source": [
    "# Q-1. Write an SQL query to fetch “FIRST_NAME” from Worker table using the alias\n",
    "name as WORKER_NAME.\n",
    "Ans: Select FIRST_NAME as WORKER_NAME from Worker"
   ]
  },
  {
   "cell_type": "raw",
   "id": "fffdd595",
   "metadata": {},
   "source": [
    "#Q2:Write an SQL query to fetch unique values of DEPARTMENT from Worker table.\n",
    "Ans:\n",
    "select distinct DEPARTMENT from Worker"
   ]
  },
  {
   "cell_type": "raw",
   "id": "15033be2",
   "metadata": {},
   "source": [
    "#Q3:Write an SQL query to show the last 5 record from a table.\n",
    "Ans.\n",
    "Select * from Table_Name order by Col_ID desc limit 5"
   ]
  }
 ],
 "metadata": {
  "kernelspec": {
   "display_name": "Python 3",
   "language": "python",
   "name": "python3"
  },
  "language_info": {
   "codemirror_mode": {
    "name": "ipython",
    "version": 3
   },
   "file_extension": ".py",
   "mimetype": "text/x-python",
   "name": "python",
   "nbconvert_exporter": "python",
   "pygments_lexer": "ipython3",
   "version": "3.8.8"
  }
 },
 "nbformat": 4,
 "nbformat_minor": 5
}
